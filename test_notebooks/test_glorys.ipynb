{
 "cells": [
  {
   "cell_type": "code",
   "execution_count": null,
   "id": "b4125e6d-027a-4cfc-89aa-d81b31c919c3",
   "metadata": {},
   "outputs": [
    {
     "name": "stdout",
     "output_type": "stream",
     "text": [
      "2025-02-24 20:28:11,627 - CrocoDash.data_access.glorys.get_glorys_data_from_rda - INFO - Downloading Glorys data from RDA to /glade/work/ajanney/CrocoDash_Input/CrocCaribDefault_Coarse/glorys_raw/east_unprocessed.nc\n"
     ]
    }
   ],
   "source": [
    "from CrocoDash.data_access import glorys as gl\n",
    "from CrocoDash.data_access import driver as dv\n",
    "import xarray as xr\n",
    "\n",
    "start_date_iter = \"2000-01-01 00:00:00\"\n",
    "end_date_iter = \"2020-01-05 00:00:00\"\n",
    "\n",
    "raw_data_sub_folder = '/glade/work/ajanney/CrocoDash_Input/CrocCaribDefault_Coarse/glorys_raw'\n",
    "\n",
    "hgrid = xr.open_dataset(\n",
    "\"/glade/work/ajanney/CrocoDash_Input/CrocCaribDefault_Coarse/ocnice/ocean_hgrid_CrocCaribDefault_7728f2.nc\"\n",
    ")\n",
    "bounds = dv.get_rectangular_segment_info(hgrid)\n",
    "key = \"east\" # or east, north, west, south, ic\n",
    "gl.get_glorys_data_from_rda([start_date_iter,end_date_iter], bounds[key][\"lat_min\"], bounds[key][\"lat_max\"], bounds[key][\"lon_min\"], bounds[key][\"lon_max\"], output_dir = raw_data_sub_folder, output_file = key+\"_unprocessed.nc\")"
   ]
  },
  {
   "cell_type": "code",
   "execution_count": null,
   "id": "791e77a6-9a50-4d05-88b3-fe980966b592",
   "metadata": {},
   "outputs": [],
   "source": []
  }
 ],
 "metadata": {
  "kernelspec": {
   "display_name": "Python [conda env:CrocoDash]",
   "language": "python",
   "name": "conda-env-CrocoDash-py"
  },
  "language_info": {
   "codemirror_mode": {
    "name": "ipython",
    "version": 3
   },
   "file_extension": ".py",
   "mimetype": "text/x-python",
   "name": "python",
   "nbconvert_exporter": "python",
   "pygments_lexer": "ipython3",
   "version": "3.12.8"
  }
 },
 "nbformat": 4,
 "nbformat_minor": 5
}
